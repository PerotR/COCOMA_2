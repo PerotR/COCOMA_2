{
 "cells": [
  {
   "cell_type": "markdown",
   "metadata": {},
   "source": [
    "# Allocation en ligne de tâches\n",
    "Ce notebook présente un projet d'allocation multi-agents où une flotte de taxis doit effectuer des trajets (tâches) assignés en ligne.\n",
    "\n",
    "Binôme:\n",
    "- Perotti-Valle Rayan  \n",
    "- Thomasson Malo"
   ]
  },
  {
   "cell_type": "markdown",
   "metadata": {},
   "source": [
    "## Objectif\n",
    "L'objectif est d'implémenter et de visualiser un système où :\n",
    "- Des taxis se déplacent sur une grille pour effectuer des taches (trajets) assignés.\n",
    "- Tous les T pas de temps on génére de nouvelles tâches à effectuer.\n",
    "- On doit ensuite re-assigner ces tâches aux taxis de manière optimale."
   ]
  },
  {
   "cell_type": "markdown",
   "metadata": {},
   "source": [
    "## Structure du Projet\n",
    "Le projet est structuré en plusieurs fichiers :\n",
    "- **`config.py`** → Contient les constantes globales (taille de la grille, vitesse des taxis, couleurs, etc.).\n",
    "- **`task.py`** → Définit la classe `Task`, qui représente une tâche (un trajet à effectuer).\n",
    "- **`taxi.py`** → Définit la classe `Taxi`, qui représente un taxi capable de gérer une file de tâches.\n",
    "- **`simulation.py`** → Gère la simulation, y compris l'affichage avec Pygame et l'assignation des tâches.\n",
    "- **`notebook.ipynb`** → Ce fichier, qui permet d'interagir avec les modules et d'exécuter des tests.\n"
   ]
  },
  {
   "cell_type": "markdown",
   "metadata": {},
   "source": [
    "## Partie 1 : Génération de tâches en ligne\n",
    "\n",
    "\n"
   ]
  },
  {
   "cell_type": "code",
   "execution_count": 6,
   "metadata": {},
   "outputs": [
    {
     "name": "stdout",
     "output_type": "stream",
     "text": [
      "The autoreload extension is already loaded. To reload it, use:\n",
      "  %reload_ext autoreload\n"
     ]
    }
   ],
   "source": [
    "import config\n",
    "from task import Task\n",
    "from taxi import Taxi\n",
    "import simulation\n",
    "\n",
    "%load_ext autoreload\n",
    "%autoreload 2"
   ]
  },
  {
   "cell_type": "markdown",
   "metadata": {},
   "source": [
    "### Paramètres de la simulation\n",
    "Les paramètres globaux définis dans `config.py` :"
   ]
  },
  {
   "cell_type": "code",
   "execution_count": 7,
   "metadata": {},
   "outputs": [
    {
     "name": "stdout",
     "output_type": "stream",
     "text": [
      "Taille de la fenêtre : 800x600\n",
      "Nombre de taxis : 3\n",
      "Nombre de FPS : 60\n",
      "Nombre de taxis : 3\n",
      "Intervalle de génération des tâches : 10.0 s\n",
      "Nombre de tâches générées : 5\n",
      "Vitesse des taxis : 100 pixels/seconde\n"
     ]
    }
   ],
   "source": [
    "# Affichage des paramètres du projet\n",
    "print(f\"Taille de la fenêtre : {config.WIDTH}x{config.HEIGHT}\")\n",
    "print(f\"Nombre de taxis : {config.NUM_TAXIS}\")\n",
    "print(f\"Nombre de FPS : {config.FPS}\")\n",
    "print(f\"Nombre de taxis : {config.NUM_TAXIS}\")\n",
    "print(f\"Intervalle de génération des tâches : {config.TASK_INTERVAL/1000} s\")\n",
    "print(f\"Nombre de tâches générées : {config.NUM_TASKS_SPAWN}\")\n",
    "print(f\"Vitesse des taxis : {config.TAXI_SPEED} pixels/seconde\")\n"
   ]
  },
  {
   "cell_type": "markdown",
   "metadata": {},
   "source": [
    "## Création et Test des Classes `Task` et `Taxi`\n",
    "Avant de lancer la simulation complète, nous allons vérifier le bon fonctionnement des classes `Task` et `Taxi`.\n"
   ]
  },
  {
   "cell_type": "code",
   "execution_count": 8,
   "metadata": {},
   "outputs": [
    {
     "name": "stdout",
     "output_type": "stream",
     "text": [
      "Task(id=1, start=(10, 10), destination=(100, 100))\n",
      "Task(id=2, start=(50, 50), destination=(150, 150))\n"
     ]
    }
   ],
   "source": [
    "# Création de quelques tâches de test\n",
    "task1 = Task(start=(10, 10), destination=(100, 100), id=1)\n",
    "task2 = Task(start=(50, 50), destination=(150, 150), id=2)\n",
    "\n",
    "print(task1)\n",
    "print(task2)"
   ]
  },
  {
   "cell_type": "code",
   "execution_count": 9,
   "metadata": {},
   "outputs": [
    {
     "name": "stdout",
     "output_type": "stream",
     "text": [
      "Tâches du taxi 0: [Task(id=1, start=(10, 10), destination=(100, 100)), Task(id=2, start=(50, 50), destination=(150, 150))]\n",
      "Itinéraire calculé : [(10, 10), (100, 100), (50, 50), (150, 150)]\n"
     ]
    }
   ],
   "source": [
    "# Création d'un taxi et assignation des tâches\n",
    "taxi1 = Taxi(id=0, position=(0, 0))\n",
    "taxi1.add_task(task1)\n",
    "taxi1.add_task(task2)\n",
    "\n",
    "# Vérification de l'état du taxi\n",
    "print(f\"Tâches du taxi {taxi1.id}: {taxi1.tasks}\")\n",
    "print(f\"Itinéraire calculé : {taxi1.route}\")"
   ]
  },
  {
   "cell_type": "markdown",
   "metadata": {},
   "source": [
    "## Lancement de la Simulation Pygame\n",
    "\n",
    "Nous allons maintenant exécuter la simulation complète. Cette simulation affiche les taxis et leurs trajets sur une interface graphique avec Pygame et itére les étapes suivantes :\n",
    "- Génère des tâches dynamiquement toutes les n secondes (en fonction de TASK_INTERVAL),\n",
    "- Assigne les tâches aux taxis en minimisant le coût avec **greedy_task_assignment**, (présent dans le fichier **`simulation.py`**) qui cherche parmi toutes les permutations possibles de tâches, celle qui minimise la somme des distances parcourues par les taxis.\n",
    "\n",
    "Dans toutes les simulations, en utilisant **random_tasks** = True, on génère des tâches aléatoires, sinon on charge les tâches depuis le fichier **`task_created.json`**."
   ]
  },
  {
   "cell_type": "code",
   "execution_count": null,
   "metadata": {},
   "outputs": [
    {
     "name": "stdout",
     "output_type": "stream",
     "text": [
      "Simulation(width=800, height=600, num_taxis=3, task_interval=10000, num_tasks_spawn=5)\n"
     ]
    },
    {
     "ename": "SystemExit",
     "evalue": "",
     "output_type": "error",
     "traceback": [
      "An exception has occurred, use %tb to see the full traceback.\n",
      "\u001b[1;31mSystemExit\u001b[0m\n"
     ]
    }
   ],
   "source": [
    "simulation.main(resolutionType=\"greedy\", isPenalty=False, random_task=False)"
   ]
  },
  {
   "cell_type": "markdown",
   "metadata": {},
   "source": [
    "## Partie 2 : Optimisation de contraintes distribuées"
   ]
  },
  {
   "cell_type": "markdown",
   "metadata": {},
   "source": [
    "Dans cette partie, on utilise les fonctions : \n",
    "- **`generate_dcop`** : qui génère un fichier yaml (**\"dcop.yaml\"**) avec un problème DCOP.\n",
    "- **`solve_dcop`** : qui résout le problème DCOP en utilisant l'algo passé en paramètre (dpop, dsa, mgm).\n",
    "- **`attribution_dcop`** : qui attribue les tâches aux taxis en utilisant les résultats du DCOP."
   ]
  },
  {
   "cell_type": "markdown",
   "metadata": {},
   "source": [
    "Lancer les differentes cellules suivantes qui specifie l'algorithme utilisé en paramètre de la fonction **`solve_dcop`**."
   ]
  },
  {
   "cell_type": "code",
   "execution_count": null,
   "metadata": {},
   "outputs": [
    {
     "name": "stdout",
     "output_type": "stream",
     "text": [
      "Simulation(width=800, height=600, num_taxis=3, task_interval=10000, num_tasks_spawn=5)\n"
     ]
    },
    {
     "ename": "SystemExit",
     "evalue": "",
     "output_type": "error",
     "traceback": [
      "An exception has occurred, use %tb to see the full traceback.\n",
      "\u001b[1;31mSystemExit\u001b[0m\n"
     ]
    }
   ],
   "source": [
    "simulation.main(resolutionType=\"dcop\", isPenalty=False, random_task=False, algo=\"dpop\")"
   ]
  },
  {
   "cell_type": "code",
   "execution_count": null,
   "metadata": {},
   "outputs": [],
   "source": [
    "simulation.main(resolutionType=\"dcop\", isPenalty=False, random_task=False, algo=\"dsa\")"
   ]
  },
  {
   "cell_type": "code",
   "execution_count": null,
   "metadata": {},
   "outputs": [],
   "source": [
    "simulation.main(resolutionType=\"dcop\", isPenalty=False, random_task=False, algo=\"mgm\")"
   ]
  },
  {
   "cell_type": "markdown",
   "metadata": {},
   "source": [
    "## Partie 3 : Négociation\n",
    "\n",
    "Dans cette partie, nous implémentons et comparons différents protocoles de négociation pour l'allocation des tâches entre les taxis. Les protocoles étudiés sont :\n",
    "\n",
    "**Enchères parallèles (PSI)** : Chaque taxi fait des offres en parallèle sur toutes les tâches disponibles.\n",
    "\n",
    "**Enchères séquentielles (SSI)** : Les tâches sont attribuées une par une, en séquence.\n",
    "\n",
    "**Enchères séquentielles basées sur le regret** : Les tâches sont attribuées en fonction de leur \"regret\", c'est-à-dire la différence entre le meilleur et le deuxième meilleur coût.\n"
   ]
  },
  {
   "cell_type": "code",
   "execution_count": null,
   "metadata": {},
   "outputs": [],
   "source": [
    "\n",
    "simulation.main(resolutionType=\"PSI\", isPenalty=False, random_task=False)\n"
   ]
  },
  {
   "cell_type": "code",
   "execution_count": null,
   "metadata": {},
   "outputs": [],
   "source": [
    "simulation.main(resolutionType=\"SSI\", isPenalty=False, random_task=False)"
   ]
  },
  {
   "cell_type": "code",
   "execution_count": null,
   "metadata": {},
   "outputs": [],
   "source": [
    "simulation.main(resolutionType=\"regret\", isPenalty=False, random_task=False)"
   ]
  },
  {
   "cell_type": "markdown",
   "metadata": {},
   "source": [
    "Nous avons également implementé une notion de penalité qui peut etre activé ou non, et qui ajoute une penalité au taxi en fonction des tâches présentes dans sa file.\n",
    "Au niveau de la fonction **`insertion_heuristic`**, qui est utilisée pour tester l'insertion d'une tâche dans la file d'un taxi.\n",
    "Cette fonction est utilisée dans les fonctions **`PSI_task_assignment`**, **`SSI_task_assignment`** et **`regret_task_assignment`**."
   ]
  },
  {
   "cell_type": "code",
   "execution_count": null,
   "metadata": {},
   "outputs": [],
   "source": [
    "simulation.main(resolutionType=\"PSI\", isPenalty=True, random_task=False)"
   ]
  },
  {
   "cell_type": "code",
   "execution_count": null,
   "metadata": {},
   "outputs": [],
   "source": [
    "simulation.main(resolutionType=\"SSI\", isPenalty=True, random_task=False)"
   ]
  },
  {
   "cell_type": "code",
   "execution_count": null,
   "metadata": {},
   "outputs": [],
   "source": [
    "simulation.main(resolutionType=\"regret\", isPenalty=True, random_task=False)"
   ]
  }
 ],
 "metadata": {
  "kernelspec": {
   "display_name": "base",
   "language": "python",
   "name": "python3"
  },
  "language_info": {
   "codemirror_mode": {
    "name": "ipython",
    "version": 3
   },
   "file_extension": ".py",
   "mimetype": "text/x-python",
   "name": "python",
   "nbconvert_exporter": "python",
   "pygments_lexer": "ipython3",
   "version": "3.12.3"
  }
 },
 "nbformat": 4,
 "nbformat_minor": 2
}
