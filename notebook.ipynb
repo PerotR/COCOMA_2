{
 "cells": [
  {
   "cell_type": "markdown",
   "metadata": {},
   "source": [
    "# Allocation en ligne de tâches\n",
    "Ce notebook présente un projet d'allocation multi-agents où une flotte de taxis doit effectuer des trajets (tâches) assignés en ligne.\n",
    "\n",
    "Binôme:\n",
    "- Perotti-Valle Rayan  \n",
    "- Thomasson Malo"
   ]
  },
  {
   "cell_type": "markdown",
   "metadata": {},
   "source": [
    "## Objectif\n",
    "L'objectif est d'implémenter et de visualiser un système où :\n",
    "- Des taxis se déplacent sur une grille pour effectuer des taches (trajets) assignés.\n",
    "- Tous les T pas de temps on génére de nouvelles tâches à effectuer.\n",
    "- On doit ensuite re-assigner ces tâches aux taxis de manière optimale."
   ]
  },
  {
   "cell_type": "markdown",
   "metadata": {},
   "source": [
    "## Structure du Projet\n",
    "Le projet est structuré en plusieurs fichiers :\n",
    "- **`config.py`** → Contient les constantes globales (taille de la grille, vitesse des taxis, couleurs, etc.).\n",
    "- **`task.py`** → Définit la classe `Task`, qui représente une tâche (un trajet à effectuer).\n",
    "- **`taxi.py`** → Définit la classe `Taxi`, qui représente un taxi capable de gérer une file de tâches.\n",
    "- **`simulation.py`** → Gère la simulation, y compris l'affichage avec Pygame et l'assignation des tâches.\n",
    "- **`notebook.ipynb`** → Ce fichier, qui permet d'interagir avec les modules et d'exécuter des tests.\n"
   ]
  },
  {
   "cell_type": "markdown",
   "metadata": {},
   "source": [
    "## Partie 1 : Génération de tâches en ligne\n",
    "\n",
    "\n"
   ]
  },
  {
   "cell_type": "code",
   "execution_count": 3,
   "metadata": {},
   "outputs": [
    {
     "name": "stdout",
     "output_type": "stream",
     "text": [
      "The autoreload extension is already loaded. To reload it, use:\n",
      "  %reload_ext autoreload\n"
     ]
    }
   ],
   "source": [
    "%load_ext autoreload\n",
    "%autoreload 2\n",
    "\n",
    "import config\n",
    "from task import Task\n",
    "from taxi import Taxi\n",
    "import simulation\n"
   ]
  },
  {
   "cell_type": "markdown",
   "metadata": {},
   "source": [
    "### Paramètres de la simulation\n",
    "Les paramètres globaux définis dans `config.py` :"
   ]
  },
  {
   "cell_type": "code",
   "execution_count": 4,
   "metadata": {},
   "outputs": [
    {
     "name": "stdout",
     "output_type": "stream",
     "text": [
      "Taille de la fenêtre : 800x600\n",
      "Nombre de taxis : 3\n",
      "Nombre de FPS : 60\n",
      "Nombre de taxis : 3\n",
      "Intervalle de génération des tâches : 10.0 s\n",
      "Nombre de tâches générées : 5\n",
      "Vitesse des taxis : 100 pixels/seconde\n"
     ]
    }
   ],
   "source": [
    "# Affichage des paramètres du projet\n",
    "print(f\"Taille de la fenêtre : {config.WIDTH}x{config.HEIGHT}\")\n",
    "print(f\"Nombre de taxis : {config.NUM_TAXIS}\")\n",
    "print(f\"Nombre de FPS : {config.FPS}\")\n",
    "print(f\"Nombre de taxis : {config.NUM_TAXIS}\")\n",
    "print(f\"Intervalle de génération des tâches : {config.TASK_INTERVAL/1000} s\")\n",
    "print(f\"Nombre de tâches générées : {config.NUM_TASKS_SPAWN}\")\n",
    "print(f\"Vitesse des taxis : {config.TAXI_SPEED} pixels/seconde\")\n"
   ]
  },
  {
   "cell_type": "markdown",
   "metadata": {},
   "source": [
    "## Création et Test des Classes `Task` et `Taxi`\n",
    "Avant de lancer la simulation complète, nous allons vérifier le bon fonctionnement des classes `Task` et `Taxi`.\n"
   ]
  },
  {
   "cell_type": "code",
   "execution_count": 5,
   "metadata": {},
   "outputs": [
    {
     "name": "stdout",
     "output_type": "stream",
     "text": [
      "Task(id=1, start=(10, 10), destination=(100, 100))\n",
      "Task(id=2, start=(50, 50), destination=(150, 150))\n"
     ]
    }
   ],
   "source": [
    "# Création de quelques tâches de test\n",
    "task1 = Task(start=(10, 10), destination=(100, 100), id=1)\n",
    "task2 = Task(start=(50, 50), destination=(150, 150), id=2)\n",
    "\n",
    "print(task1)\n",
    "print(task2)"
   ]
  },
  {
   "cell_type": "code",
   "execution_count": 6,
   "metadata": {},
   "outputs": [
    {
     "name": "stdout",
     "output_type": "stream",
     "text": [
      "Tâches du taxi 0: [Task(id=1, start=(10, 10), destination=(100, 100)), Task(id=2, start=(50, 50), destination=(150, 150))]\n",
      "Itinéraire calculé : [(10, 10), (100, 100), (50, 50), (150, 150)]\n"
     ]
    }
   ],
   "source": [
    "# Création d'un taxi et assignation des tâches\n",
    "taxi1 = Taxi(id=0, position=(0, 0))\n",
    "taxi1.add_task(task1)\n",
    "taxi1.add_task(task2)\n",
    "\n",
    "# Vérification de l'état du taxi\n",
    "print(f\"Tâches du taxi {taxi1.id}: {taxi1.tasks}\")\n",
    "print(f\"Itinéraire calculé : {taxi1.route}\")"
   ]
  },
  {
   "cell_type": "markdown",
   "metadata": {},
   "source": [
    "## Lancement de la Simulation Pygame\n",
    "\n",
    "Nous allons maintenant exécuter la simulation complète. Cette simulation affiche les taxis et leurs trajets sur une interface graphique avec Pygame et itére les étapes suivantes :\n",
    "- Génère des tâches dynamiquement toutes les n secondes (en fonction de TASK_INTERVAL),\n",
    "- Assigne les tâches aux taxis en minimisant le coût avec **greedy_task_assignment**, (présent dans le fichier **`simulation.py`**) qui cherche parmi toutes les permutations possibles de tâches, celle qui minimise la somme des distances parcourues par les taxis."
   ]
  },
  {
   "cell_type": "code",
   "execution_count": null,
   "metadata": {},
   "outputs": [
    {
     "name": "stdout",
     "output_type": "stream",
     "text": [
      "Simulation(width=800, height=600, num_taxis=3, task_interval=10000, num_tasks_spawn=5)\n"
     ]
    },
    {
     "ename": "TypeError",
     "evalue": "Simulation.greedy_task_assignment() takes 3 positional arguments but 4 were given",
     "output_type": "error",
     "traceback": [
      "\u001b[1;31m---------------------------------------------------------------------------\u001b[0m",
      "\u001b[1;31mTypeError\u001b[0m                                 Traceback (most recent call last)",
      "Cell \u001b[1;32mIn[7], line 1\u001b[0m\n\u001b[1;32m----> 1\u001b[0m \u001b[43msimulation\u001b[49m\u001b[38;5;241;43m.\u001b[39;49m\u001b[43mmain\u001b[49m\u001b[43m(\u001b[49m\u001b[43mresolutionType\u001b[49m\u001b[38;5;241;43m=\u001b[39;49m\u001b[38;5;124;43m\"\u001b[39;49m\u001b[38;5;124;43mgreedy\u001b[39;49m\u001b[38;5;124;43m\"\u001b[39;49m\u001b[43m)\u001b[49m\n",
      "File \u001b[1;32mc:\\M2\\COCOMA\\COCOMA_2\\simulation.py:282\u001b[0m, in \u001b[0;36mmain\u001b[1;34m(resolutionType)\u001b[0m\n\u001b[0;32m    279\u001b[0m     \u001b[38;5;28;01melif\u001b[39;00m event\u001b[38;5;241m.\u001b[39mtype \u001b[38;5;241m==\u001b[39m pygame\u001b[38;5;241m.\u001b[39mKEYDOWN \u001b[38;5;129;01mand\u001b[39;00m event\u001b[38;5;241m.\u001b[39mkey \u001b[38;5;241m==\u001b[39m pygame\u001b[38;5;241m.\u001b[39mK_SPACE:\n\u001b[0;32m    280\u001b[0m         sim\u001b[38;5;241m.\u001b[39mtoggle_pause()\n\u001b[1;32m--> 282\u001b[0m \u001b[43msim\u001b[49m\u001b[38;5;241;43m.\u001b[39;49m\u001b[43mupdate\u001b[49m\u001b[43m(\u001b[49m\u001b[43mcurrent_time\u001b[49m\u001b[43m,\u001b[49m\u001b[43m \u001b[49m\u001b[43mdt\u001b[49m\u001b[43m)\u001b[49m\n\u001b[0;32m    283\u001b[0m sim\u001b[38;5;241m.\u001b[39mdraw(screen)\n\u001b[0;32m    284\u001b[0m \u001b[38;5;66;03m# step+=1\u001b[39;00m\n\u001b[0;32m    285\u001b[0m \u001b[38;5;66;03m# if(step % 60 == 0):\u001b[39;00m\n\u001b[0;32m    286\u001b[0m \u001b[38;5;66;03m#     print(f\"Step {step}\")\u001b[39;00m\n",
      "File \u001b[1;32mc:\\M2\\COCOMA\\COCOMA_2\\simulation.py:202\u001b[0m, in \u001b[0;36mSimulation.update\u001b[1;34m(self, current_time, dt)\u001b[0m\n\u001b[0;32m    200\u001b[0m \u001b[38;5;28;01mmatch\u001b[39;00m \u001b[38;5;28mself\u001b[39m\u001b[38;5;241m.\u001b[39mresolutionType:\n\u001b[0;32m    201\u001b[0m     \u001b[38;5;28;01mcase\u001b[39;00m \u001b[38;5;124m\"\u001b[39m\u001b[38;5;124mgreedy\u001b[39m\u001b[38;5;124m\"\u001b[39m:\n\u001b[1;32m--> 202\u001b[0m         \u001b[38;5;28;43mself\u001b[39;49m\u001b[38;5;241;43m.\u001b[39;49m\u001b[43mgreedy_task_assignment\u001b[49m\u001b[43m(\u001b[49m\u001b[38;5;28;43mlen\u001b[39;49m\u001b[43m(\u001b[49m\u001b[38;5;28;43mself\u001b[39;49m\u001b[38;5;241;43m.\u001b[39;49m\u001b[43mtaxis\u001b[49m\u001b[43m)\u001b[49m\u001b[43m,\u001b[49m\u001b[43m \u001b[49m\u001b[38;5;28;43mself\u001b[39;49m\u001b[38;5;241;43m.\u001b[39;49m\u001b[43mtaxis\u001b[49m\u001b[43m,\u001b[49m\u001b[43m \u001b[49m\u001b[43mnew_tasks\u001b[49m\u001b[43m)\u001b[49m\n\u001b[0;32m    203\u001b[0m     \u001b[38;5;66;03m# case \"dcop\":\u001b[39;00m\n\u001b[0;32m    204\u001b[0m     \u001b[38;5;66;03m#     dcop.generate_dcop(self.taxis, new_tasks, \"dcop.yaml\")\u001b[39;00m\n\u001b[0;32m    205\u001b[0m     \u001b[38;5;66;03m#     dcop.solve_dcop(\"dcop.yaml\")\u001b[39;00m\n\u001b[0;32m    206\u001b[0m     \u001b[38;5;28;01mcase\u001b[39;00m \u001b[38;5;124m\"\u001b[39m\u001b[38;5;124mPSI\u001b[39m\u001b[38;5;124m\"\u001b[39m:\n",
      "\u001b[1;31mTypeError\u001b[0m: Simulation.greedy_task_assignment() takes 3 positional arguments but 4 were given"
     ]
    },
    {
     "ename": "",
     "evalue": "",
     "output_type": "error",
     "traceback": [
      "\u001b[1;31mThe Kernel crashed while executing code in the current cell or a previous cell. \n",
      "\u001b[1;31mPlease review the code in the cell(s) to identify a possible cause of the failure. \n",
      "\u001b[1;31mClick <a href='https://aka.ms/vscodeJupyterKernelCrash'>here</a> for more info. \n",
      "\u001b[1;31mView Jupyter <a href='command:jupyter.viewOutput'>log</a> for further details."
     ]
    }
   ],
   "source": [
    "simulation.main(resolutionType=\"greedy\")"
   ]
  }
 ],
 "metadata": {
  "kernelspec": {
   "display_name": "base",
   "language": "python",
   "name": "python3"
  },
  "language_info": {
   "codemirror_mode": {
    "name": "ipython",
    "version": 3
   },
   "file_extension": ".py",
   "mimetype": "text/x-python",
   "name": "python",
   "nbconvert_exporter": "python",
   "pygments_lexer": "ipython3",
   "version": "3.12.3"
  }
 },
 "nbformat": 4,
 "nbformat_minor": 2
}
